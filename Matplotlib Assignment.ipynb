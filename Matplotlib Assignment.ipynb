{
 "cells": [
  {
   "cell_type": "markdown",
   "id": "b3643614",
   "metadata": {},
   "source": [
    "# Q1: \n",
    "### What is Matplotlib? Why is it used? Name five plots that can be plotted using the Pyplot module of\n",
    "### Matplotlib."
   ]
  },
  {
   "cell_type": "raw",
   "id": "0b2ae02f",
   "metadata": {},
   "source": [
    "Matplotlib is a widely used data visualization library in Python. It provides a comprehensive set of tools for creating various types of plots, charts, and graphs. Matplotlib is designed to be easy to use while offering flexibility and customization options to create visually appealing and informative visualizations.\n",
    "\n",
    "Here are five plots that can be plotted using the Pyplot module of Matplotlib:\n",
    "\n",
    "1. Line Plot: A line plot is used to display the relationship between two continuous variables. It represents data points connected by straight lines, often used to show trends over time.\n",
    "\n",
    "2. Scatter Plot: A scatter plot is used to display the relationship between two continuous variables. It represents individual data points as dots on a two-dimensional graph, helping visualize patterns or correlations between variables.\n",
    "\n",
    "3. Bar Plot: A bar plot is used to compare categorical data. It represents data using rectangular bars, where the length of each bar corresponds to the value it represents. Bar plots are commonly used to compare quantities across different categories.\n",
    "\n",
    "4. Histogram: A histogram is used to visualize the distribution of a continuous variable. It represents data using a series of adjacent rectangular bars, where the height of each bar represents the frequency or proportion of data falling within a specific range or bin.\n",
    "\n",
    "5. Pie Chart: A pie chart is used to represent categorical data as a circular graph. The size of each \"slice\" of the pie corresponds to the proportion or percentage of each category. Pie charts are commonly used to show the composition of a whole.\n",
    "\n",
    "These are just a few examples of the types of plots that can be created using Matplotlib's Pyplot module. Matplotlib provides many more plot types and customization options to cater to various visualization needs."
   ]
  },
  {
   "cell_type": "markdown",
   "id": "6ef14286",
   "metadata": {},
   "source": [
    "# Q2: \n",
    "### What is a scatter plot? Use the following code to generate data for x and y. Using this generated data\n",
    "### plot a scatter plot.\n"
   ]
  },
  {
   "cell_type": "code",
   "execution_count": 3,
   "id": "3038dba1",
   "metadata": {},
   "outputs": [],
   "source": [
    "import numpy as np\n",
    "import matplotlib.pyplot as plt\n",
    "np.random.seed(3)\n",
    "x = 3 + np.random.normal(0, 2, 50)\n",
    "y = 3 + np.random.normal(0, 2, len(x))"
   ]
  },
  {
   "cell_type": "raw",
   "id": "c05f5950",
   "metadata": {},
   "source": [
    "A scatter plot is a type of data visualization that displays the relationship between two numerical variables. It is particularly useful for identifying patterns, trends, or correlations between the variables."
   ]
  },
  {
   "cell_type": "code",
   "execution_count": 4,
   "id": "5bb68cd8",
   "metadata": {},
   "outputs": [
    {
     "data": {
      "image/png": "[encoded data removed]",
      "text/plain": [
       "<Figure size 432x288 with 1 Axes>"
      ]
     },
     "metadata": {
      "needs_background": "light"
     },
     "output_type": "display_data"
    }
   ],
   "source": [
    "\n",
    "plt.scatter(x, y)\n",
    "plt.xlabel('X')\n",
    "plt.ylabel('Y')\n",
    "plt.title('Scatter Plot')\n",
    "plt.show()"
   ]
  },
  {
   "cell_type": "markdown",
   "id": "ddb9e7b6",
   "metadata": {},
   "source": [
    "### Note: Also add title, xlabel, and ylabel to the plot."
   ]
  },
  {
   "cell_type": "markdown",
   "id": "9d95e513",
   "metadata": {},
   "source": [
    "# Q3: \n",
    "### Why is the subplot() function used? Draw four line plots using the subplot() function.\n",
    "### Use the following data:"
   ]
  },
  {
   "cell_type": "raw",
   "id": "7281678e",
   "metadata": {},
   "source": [
    "import numpy as np\n",
    "For line 1: x = np.array([0, 1, 2, 3, 4, 5]) and y = np.array([0, 100, 200, 300, 400, 500])\n",
    "For line 2: x = np.array([0, 1, 2, 3, 4, 5]) and y = np.array([50, 20, 40, 20, 60, 70])\n",
    "For line 3: x = np.array([0, 1, 2, 3, 4, 5]) and y = np.array([10, 20, 30, 40, 50, 60])\n",
    "For line 4: x = np.array([0, 1, 2, 3, 4, 5]) and y = np.array([200, 350, 250, 550, 450, 150])"
   ]
  },
  {
   "cell_type": "raw",
   "id": "6f01aa58",
   "metadata": {},
   "source": [
    "The subplot() function in Matplotlib is used to create a grid of subplots within a single figure. It allows you to divide the figure into multiple smaller axes or subplots, each capable of displaying its own plot or visualization."
   ]
  },
  {
   "cell_type": "code",
   "execution_count": 7,
   "id": "938e32d9",
   "metadata": {},
   "outputs": [
    {
     "data": {
      "image/png": "[encoded data removed]",
      "text/plain": [
       "<Figure size 432x288 with 4 Axes>"
      ]
     },
     "metadata": {
      "needs_background": "light"
     },
     "output_type": "display_data"
    }
   ],
   "source": [
    "import numpy as np\n",
    "import matplotlib.pyplot as plt\n",
    "\n",
    "# Data for line 1\n",
    "x1 = np.array([0, 1, 2, 3, 4, 5])\n",
    "y1 = np.array([0, 100, 200, 300, 400, 500])\n",
    "\n",
    "# Data for line 2\n",
    "x2 = np.array([0, 1, 2, 3, 4, 5])\n",
    "y2 = np.array([50, 20, 40, 20, 60, 70])\n",
    "\n",
    "# Data for line 3\n",
    "x3 = np.array([0, 1, 2, 3, 4, 5])\n",
    "y3 = np.array([10, 20, 30, 40, 50, 60])\n",
    "\n",
    "# Data for line 4\n",
    "x4 = np.array([0, 1, 2, 3, 4, 5])\n",
    "y4 = np.array([200, 350, 250, 550, 450, 150])\n",
    "\n",
    "# Create a 2x2 grid of subplots\n",
    "plt.subplot(2, 2, 1)\n",
    "plt.plot(x1, y1)\n",
    "plt.title('Line 1')\n",
    "\n",
    "plt.subplot(2, 2, 2)\n",
    "plt.plot(x2, y2)\n",
    "plt.title('Line 2')\n",
    "\n",
    "plt.subplot(2, 2, 3)\n",
    "plt.plot(x3, y3)\n",
    "plt.title('Line 3')\n",
    "\n",
    "plt.subplot(2, 2, 4)\n",
    "plt.plot(x4, y4)\n",
    "plt.title('Line 4')\n",
    "\n",
    "\n",
    "# Display the plot\n",
    "plt.show()\n"
   ]
  },
  {
   "cell_type": "markdown",
   "id": "1afdb529",
   "metadata": {},
   "source": [
    "# Q4: What is a bar plot? Why is it used? Using the following data plot a bar plot and a horizontal bar plot."
   ]
  },
  {
   "cell_type": "code",
   "execution_count": 9,
   "id": "b0af8c04",
   "metadata": {},
   "outputs": [],
   "source": [
    "import numpy as np\n",
    "company = np.array([\"Apple\", \"Microsoft\", \"Google\", \"AMD\"])\n",
    "profit = np.array([3000, 8000, 1000, 10000])"
   ]
  },
  {
   "cell_type": "raw",
   "id": "7d2149fa",
   "metadata": {},
   "source": [
    "A bar plot, also known as a bar chart, is a type of data visualization that represents categorical data with rectangular bars. The length or height of each bar corresponds to the quantity or value it represents. Bar plots are used to compare different categories or groups and visualize the distribution or relationship between categorical variables.\n",
    "\n",
    "Here are some key aspects and reasons why bar plots are used:\n",
    "\n",
    "Comparison of categories: Bar plots allow for easy visual comparison of different categories or groups. The length or height of the bars directly represents the values or quantities associated with each category, making it simple to compare magnitudes or proportions.\n",
    "\n",
    "Categorical data representation: Bar plots are ideal for displaying categorical data, where each category is distinct and non-sequential. The categories are typically displayed along the x-axis, while the y-axis represents the values or frequencies associated with each category.\n",
    "\n",
    "Visualizing distributions: Bar plots can effectively visualize the distribution of data across categories. By displaying the bars in ascending or descending order, patterns, trends, or outliers can be easily identified."
   ]
  },
  {
   "cell_type": "code",
   "execution_count": 10,
   "id": "04983c8c",
   "metadata": {},
   "outputs": [
    {
     "data": {
      "image/png": "[encoded data removed]",
      "text/plain": [
       "<Figure size 576x360 with 1 Axes>"
      ]
     },
     "metadata": {
      "needs_background": "light"
     },
     "output_type": "display_data"
    },
    {
     "data": {
      "image/png": "[encoded data removed]",
      "text/plain": [
       "<Figure size 576x360 with 1 Axes>"
      ]
     },
     "metadata": {
      "needs_background": "light"
     },
     "output_type": "display_data"
    }
   ],
   "source": [
    "# Bar plot\n",
    "plt.figure(figsize=(8, 5))\n",
    "plt.bar(company, profit)\n",
    "plt.xlabel('company')\n",
    "plt.ylabel('profit (in millions)')\n",
    "plt.title('Company Profit')\n",
    "plt.show()\n",
    "\n",
    "# Horizontal bar plot\n",
    "plt.figure(figsize=(8, 5))\n",
    "plt.barh(company, profit)\n",
    "plt.xlabel('Profit (in millions)')\n",
    "plt.ylabel('Company')\n",
    "plt.title('Company Profit')\n",
    "plt.show()"
   ]
  },
  {
   "cell_type": "markdown",
   "id": "eeca75d7",
   "metadata": {},
   "source": [
    "# Q5: What is a box plot? Why is it used? Using the following data plot a box plot."
   ]
  },
  {
   "cell_type": "code",
   "execution_count": 12,
   "id": "f517eed4",
   "metadata": {},
   "outputs": [],
   "source": [
    "box1 = np.random.normal(100, 10, 200)\n",
    "box2 = np.random.normal(90, 20, 200)"
   ]
  },
  {
   "cell_type": "raw",
   "id": "d3b4011d",
   "metadata": {},
   "source": [
    "A box plot, also known as a box-and-whisker plot, is a type of data visualization that provides a concise summary of the distribution of a continuous variable. It displays key statistical measures and identifies potential outliers.\n",
    "\n",
    "A box plot is used for the following purposes:\n",
    "\n",
    "Summary of distribution: A box plot provides a visual summary of the central tendency, spread, and symmetry of a dataset. It displays key statistical measures such as the median, quartiles (Q1 and Q3), and the interquartile range (IQR).\n",
    "\n",
    "Identification of outliers: Box plots help identify potential outliers in the dataset. Outliers are data points that fall significantly outside the expected range of values and can have a substantial impact on data analysis. Box plots display individual data points that are considered outliers beyond a certain range.\n",
    "\n",
    "Comparison of distributions: Box plots are useful for comparing the distribution of a variable across different categories or groups. Multiple box plots can be plotted side by side, allowing easy visual comparison of central tendency, spread, and outliers between categories.\n",
    "\n",
    "Assessment of skewness and symmetry: By examining the lengths of the whiskers and the positioning of the median within the box, box plots provide insights into the skewness and symmetry of the dataset."
   ]
  },
  {
   "cell_type": "code",
   "execution_count": 13,
   "id": "8697ee41",
   "metadata": {},
   "outputs": [
    {
     "data": {
      "image/png": "[encoded data removed]",
      "text/plain": [
       "<Figure size 432x288 with 1 Axes>"
      ]
     },
     "metadata": {
      "needs_background": "light"
     },
     "output_type": "display_data"
    }
   ],
   "source": [
    "data = [box1, box2]\n",
    "\n",
    "plt.boxplot(data)\n",
    "plt.xticks([1, 2], ['Box 1', 'Box 2'])\n",
    "plt.ylabel('Values')\n",
    "plt.title('Box Plot')\n",
    "plt.show()"
   ]
  },
  {
   "cell_type": "code",
   "execution_count": null,
   "id": "c3a4464d",
   "metadata": {},
   "outputs": [],
   "source": []
  }
 ],
 "metadata": {
  "kernelspec": {
   "display_name": "Python 3 (ipykernel)",
   "language": "python",
   "name": "python3"
  },
  "language_info": {
   "codemirror_mode": {
    "name": "ipython",
    "version": 3
   },
   "file_extension": ".py",
   "mimetype": "text/x-python",
   "name": "python",
   "nbconvert_exporter": "python",
   "pygments_lexer": "ipython3",
   "version": "3.9.12"
  }
 },
 "nbformat": 4,
 "nbformat_minor": 5
}
