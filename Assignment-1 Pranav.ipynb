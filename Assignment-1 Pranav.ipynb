{
 "cells": [
  {
   "cell_type": "markdown",
   "id": "a7f01812",
   "metadata": {},
   "source": [
    "# Q1. \n",
    "Create one variable containing following type of data:\n",
    "(i) string\n",
    "(ii) list\n",
    "(iii) float\n",
    "(iv) tuple"
   ]
  },
  {
   "cell_type": "code",
   "execution_count": 1,
   "id": "3efb5a88",
   "metadata": {},
   "outputs": [
    {
     "name": "stdout",
     "output_type": "stream",
     "text": [
      "Hello.. My name is Pranav\n"
     ]
    },
    {
     "data": {
      "text/plain": [
       "str"
      ]
     },
     "execution_count": 1,
     "metadata": {},
     "output_type": "execute_result"
    }
   ],
   "source": [
    "a= \"Hello.. My name is Pranav\"\n",
    "print(a)\n",
    "type(a)"
   ]
  },
  {
   "cell_type": "code",
   "execution_count": 2,
   "id": "6441f094",
   "metadata": {},
   "outputs": [
    {
     "name": "stdout",
     "output_type": "stream",
     "text": [
      "['apple', 'monkey', 'Vegetarian']\n"
     ]
    },
    {
     "data": {
      "text/plain": [
       "list"
      ]
     },
     "execution_count": 2,
     "metadata": {},
     "output_type": "execute_result"
    }
   ],
   "source": [
    "mylist = [ \"apple\" , \"monkey\" , \"Vegetarian\"]\n",
    "print(mylist)\n",
    "type(mylist)"
   ]
  },
  {
   "cell_type": "code",
   "execution_count": 3,
   "id": "efdc8d30",
   "metadata": {},
   "outputs": [
    {
     "name": "stdout",
     "output_type": "stream",
     "text": [
      "501.0\n"
     ]
    },
    {
     "data": {
      "text/plain": [
       "float"
      ]
     },
     "execution_count": 3,
     "metadata": {},
     "output_type": "execute_result"
    }
   ],
   "source": [
    "f = float(501)\n",
    "print(f)\n",
    "type(f)"
   ]
  },
  {
   "cell_type": "code",
   "execution_count": 4,
   "id": "b6ca07ec",
   "metadata": {},
   "outputs": [
    {
     "name": "stdout",
     "output_type": "stream",
     "text": [
      "('monkey', 'cat', 'dog')\n"
     ]
    },
    {
     "data": {
      "text/plain": [
       "tuple"
      ]
     },
     "execution_count": 4,
     "metadata": {},
     "output_type": "execute_result"
    }
   ],
   "source": [
    "mytuple = (\"monkey\", \"cat\", \"dog\")\n",
    "print(mytuple)\n",
    "type(mytuple)"
   ]
  },
  {
   "cell_type": "markdown",
   "id": "b5a5f71b",
   "metadata": {},
   "source": [
    "# Q2.\n",
    "Given are some following variables containing data:\n",
    "(i) var1 = ‘ ‘\n",
    "(ii) var2 = ‘[ DS , ML , Python]’\n",
    "(iii) var3 = [ ‘DS’ , ’ML’ , ‘Python’ ]\n",
    "(iv) var4 = 1.\n",
    "What will be the data type of the above given variable."
   ]
  },
  {
   "cell_type": "code",
   "execution_count": 5,
   "id": "c4d36d3f",
   "metadata": {},
   "outputs": [
    {
     "data": {
      "text/plain": [
       "str"
      ]
     },
     "execution_count": 5,
     "metadata": {},
     "output_type": "execute_result"
    }
   ],
   "source": [
    "var1 = ' '\n",
    "type(var1)"
   ]
  },
  {
   "cell_type": "code",
   "execution_count": 6,
   "id": "097a33cc",
   "metadata": {},
   "outputs": [
    {
     "data": {
      "text/plain": [
       "str"
      ]
     },
     "execution_count": 6,
     "metadata": {},
     "output_type": "execute_result"
    }
   ],
   "source": [
    "var2 = '[ DS , ML , Python]'\n",
    "type(var2)"
   ]
  },
  {
   "cell_type": "code",
   "execution_count": 7,
   "id": "91638d3e",
   "metadata": {},
   "outputs": [
    {
     "data": {
      "text/plain": [
       "list"
      ]
     },
     "execution_count": 7,
     "metadata": {},
     "output_type": "execute_result"
    }
   ],
   "source": [
    "var3 = ['DS' , 'ML' , 'Python' ]\n",
    "type(var3)"
   ]
  },
  {
   "cell_type": "code",
   "execution_count": 8,
   "id": "fec239ca",
   "metadata": {},
   "outputs": [
    {
     "data": {
      "text/plain": [
       "int"
      ]
     },
     "execution_count": 8,
     "metadata": {},
     "output_type": "execute_result"
    }
   ],
   "source": [
    "var4 = 1\n",
    "type(var4)"
   ]
  },
  {
   "cell_type": "markdown",
   "id": "ef8c7f23",
   "metadata": {},
   "source": [
    "# Q3. \n",
    "Explain the use of the following operators using an example:\n",
    "(i) /\n",
    "(ii) %\n",
    "(iii) //\n",
    "(iv) **"
   ]
  },
  {
   "cell_type": "code",
   "execution_count": 9,
   "id": "a4faff64",
   "metadata": {},
   "outputs": [
    {
     "name": "stdout",
     "output_type": "stream",
     "text": [
      "2.0\n"
     ]
    }
   ],
   "source": [
    "#  / is the division operator in Python\n",
    "x = 10\n",
    "y = 5\n",
    "print(x/y)"
   ]
  },
  {
   "cell_type": "code",
   "execution_count": 10,
   "id": "00ab5dbc",
   "metadata": {},
   "outputs": [
    {
     "name": "stdout",
     "output_type": "stream",
     "text": [
      "6\n"
     ]
    }
   ],
   "source": [
    "# % is the modulus operator in Python which gives us the remainder upon division\n",
    "\n",
    "x = 30\n",
    "y = 12\n",
    "print(x%y)"
   ]
  },
  {
   "cell_type": "code",
   "execution_count": 11,
   "id": "3913f7a0",
   "metadata": {},
   "outputs": [
    {
     "name": "stdout",
     "output_type": "stream",
     "text": [
      "8\n"
     ]
    }
   ],
   "source": [
    "# // is the floor division operator in Python \n",
    "\n",
    "x = 100\n",
    "y = 12\n",
    "print(x//y)                     ##the floor division // rounds the result down to the nearest whole number"
   ]
  },
  {
   "cell_type": "code",
   "execution_count": 12,
   "id": "ab6e702c",
   "metadata": {},
   "outputs": [
    {
     "name": "stdout",
     "output_type": "stream",
     "text": [
      "8\n"
     ]
    }
   ],
   "source": [
    "# ** is the exponential opeator\n",
    "\n",
    "x = 2\n",
    "y = 3\n",
    "print(x**y)                     ##same as 2*2*2"
   ]
  },
  {
   "cell_type": "markdown",
   "id": "3621194f",
   "metadata": {},
   "source": [
    "# Q4. \n",
    "Create a list of length 10 of your choice containing multiple types of data. Using for loop print the\n",
    "element and its data type."
   ]
  },
  {
   "cell_type": "code",
   "execution_count": 13,
   "id": "ca1140b1",
   "metadata": {},
   "outputs": [
    {
     "name": "stdout",
     "output_type": "stream",
     "text": [
      "10\n",
      "<class 'int'>\n",
      "14.5\n",
      "<class 'float'>\n",
      "True\n",
      "<class 'bool'>\n",
      "Pranav\n",
      "<class 'str'>\n",
      "(11+12j)\n",
      "<class 'complex'>\n",
      "36\n",
      "<class 'int'>\n",
      "False\n",
      "<class 'bool'>\n",
      "13\n",
      "<class 'int'>\n",
      "skillset\n",
      "<class 'str'>\n",
      "11\n",
      "<class 'int'>\n"
     ]
    }
   ],
   "source": [
    "l = [10 , 14.5 , True, 'Pranav', 11+12j , 36, False, 13, 'skillset', 11]\n",
    "for i in l:\n",
    "    print(i)\n",
    "    print(type(i))"
   ]
  },
  {
   "cell_type": "markdown",
   "id": "73566947",
   "metadata": {},
   "source": [
    "# Q5. \n",
    "Using a while loop, verify if the number A is purely divisible by number B and if so then how many\n",
    "times it can be divisible."
   ]
  },
  {
   "cell_type": "code",
   "execution_count": 14,
   "id": "6a4eb51a",
   "metadata": {},
   "outputs": [
    {
     "name": "stdout",
     "output_type": "stream",
     "text": [
      "Enter a value for A: 50\n",
      "Enter a value for B: 5\n",
      "A is divisible by B  2  times.\n"
     ]
    }
   ],
   "source": [
    "A = int(input(\"Enter a value for A: \"))\n",
    "B = int(input(\"Enter a value for B: \"))\n",
    "\n",
    "count = 0\n",
    "\n",
    "while A % B == 0:\n",
    "    A = A / B\n",
    "    count = count + 1\n",
    "\n",
    "if count > 0:\n",
    "    print(\"A is divisible by B \", count, \" times.\")\n",
    "else:\n",
    "    print(\"A is not divisible by B.\")"
   ]
  },
  {
   "cell_type": "markdown",
   "id": "f0df98c1",
   "metadata": {},
   "source": [
    "# Q6. \n",
    "Create a list containing 25 int type data. Using for loop and if-else condition print if the element is\n",
    "divisible by 3 or not."
   ]
  },
  {
   "cell_type": "code",
   "execution_count": 15,
   "id": "168085cc",
   "metadata": {},
   "outputs": [
    {
     "name": "stdout",
     "output_type": "stream",
     "text": [
      "3\n",
      "9\n",
      "6\n",
      "33\n",
      "36\n",
      "30\n",
      "72\n",
      "39\n"
     ]
    }
   ],
   "source": [
    "list = [1,3,5,9,7,6,11,22,33,44,88,65,32,88,74,14,36,14,74,98,30,16,64,72,39]\n",
    "\n",
    "for i in list:\n",
    "    if i % 3 == 0:\n",
    "        print(i)\n",
    "    else:\n",
    "        pass"
   ]
  },
  {
   "cell_type": "markdown",
   "id": "fcf2b256",
   "metadata": {},
   "source": [
    "# Q7. \n",
    "What do you understand about mutable and immutable data types? Give examples for both showing\n",
    "this property."
   ]
  },
  {
   "cell_type": "code",
   "execution_count": 16,
   "id": "e562f000",
   "metadata": {},
   "outputs": [
    {
     "data": {
      "text/plain": [
       "[10, 12, 'youngster', 14]"
      ]
     },
     "execution_count": 16,
     "metadata": {},
     "output_type": "execute_result"
    }
   ],
   "source": [
    "# A mutable object can be changed after it is created Examples : List, Set, Dictionary\n",
    "\n",
    "list1= [10, 12, 'youngster']\n",
    "list1.append(14)\n",
    "list1"
   ]
  },
  {
   "cell_type": "code",
   "execution_count": 17,
   "id": "a5d1dd59",
   "metadata": {},
   "outputs": [
    {
     "ename": "AttributeError",
     "evalue": "'tuple' object has no attribute 'append'",
     "output_type": "error",
     "traceback": [
      "\u001b[1;31m---------------------------------------------------------------------------\u001b[0m",
      "\u001b[1;31mAttributeError\u001b[0m                            Traceback (most recent call last)",
      "Input \u001b[1;32mIn [17]\u001b[0m, in \u001b[0;36m<cell line: 4>\u001b[1;34m()\u001b[0m\n\u001b[0;32m      1\u001b[0m \u001b[38;5;66;03m#An immutable object cannot be changed after it is created  Eg: tuples, int, float, bool, frozenset.\u001b[39;00m\n\u001b[0;32m      3\u001b[0m tuple1 \u001b[38;5;241m=\u001b[39m ( \u001b[38;5;241m10\u001b[39m , \u001b[38;5;241m12\u001b[39m, \u001b[38;5;124m'\u001b[39m\u001b[38;5;124mpranav\u001b[39m\u001b[38;5;124m'\u001b[39m)\n\u001b[1;32m----> 4\u001b[0m \u001b[43mtuple1\u001b[49m\u001b[38;5;241;43m.\u001b[39;49m\u001b[43mappend\u001b[49m(\u001b[38;5;124m'\u001b[39m\u001b[38;5;124mdata\u001b[39m\u001b[38;5;124m'\u001b[39m)\n",
      "\u001b[1;31mAttributeError\u001b[0m: 'tuple' object has no attribute 'append'"
     ]
    }
   ],
   "source": [
    "#An immutable object cannot be changed after it is created  Eg: tuples, int, float, bool, frozenset.\n",
    "\n",
    "tuple1 = ( 10 , 12, 'pranav')\n",
    "tuple1.append('data')"
   ]
  },
  {
   "cell_type": "code",
   "execution_count": null,
   "id": "2733b429",
   "metadata": {},
   "outputs": [],
   "source": [
    "#This is what Python will give us an error if we try to modify an immutable object."
   ]
  },
  {
   "cell_type": "code",
   "execution_count": null,
   "id": "9993dcc4",
   "metadata": {},
   "outputs": [],
   "source": []
  }
 ],
 "metadata": {
  "kernelspec": {
   "display_name": "Python 3 (ipykernel)",
   "language": "python",
   "name": "python3"
  },
  "language_info": {
   "codemirror_mode": {
    "name": "ipython",
    "version": 3
   },
   "file_extension": ".py",
   "mimetype": "text/x-python",
   "name": "python",
   "nbconvert_exporter": "python",
   "pygments_lexer": "ipython3",
   "version": "3.9.12"
  }
 },
 "nbformat": 4,
 "nbformat_minor": 5
}
