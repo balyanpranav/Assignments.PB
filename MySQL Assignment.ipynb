{
 "cells": [
  {
   "cell_type": "markdown",
   "id": "27e51743",
   "metadata": {},
   "source": [
    "# Q1. \n",
    "### What is a database? Differentiate between SQL and NoSQL databases."
   ]
  },
  {
   "cell_type": "markdown",
   "id": "e134a238",
   "metadata": {},
   "source": [
    "A database is an organized collection of structured information, or data, typically stored electronically in a computer system. \n",
    "\n",
    "\n",
    "\n",
    "Comparing SQL vs NoSQL databases, SQL databases are table-based databases,\n",
    "whereas NoSQL databases can be document-based, key-value pairs, and graph databases.\n",
    "\n",
    "SQL databases are vertically scalable, while NoSQL databases are horizontally scalable."
   ]
  },
  {
   "cell_type": "markdown",
   "id": "d50058b0",
   "metadata": {},
   "source": [
    "# Q2. \n",
    "### What is DDL? Explain why CREATE, DROP, ALTER, and TRUNCATE are used with an example."
   ]
  },
  {
   "cell_type": "code",
   "execution_count": null,
   "id": "011678c8",
   "metadata": {},
   "outputs": [],
   "source": [
    "DDL stands for Data Definition Language. \n",
    "It is a subset of SQL (Structured Query Language) that is used to define and manage the structure of a database,\n",
    "including creating, modifying, and deleting database objects such as tables, indexes, views, and constraints.\n",
    "\n",
    "CREATE: The CREATE statement is used to create new database objects such as tables, views, indexes, or constraints\n",
    "    CREATE TABLE Employees (\n",
    "    EmployeeID INT,\n",
    "    FirstName VARCHAR(50),\n",
    "    LastName VARCHAR(50),\n",
    "    HireDate DATE\n",
    ");\n",
    "    \n",
    "DROP: The DROP statement is used to remove or delete existing database objects\n",
    "    DROP TABLE Employees;\n",
    "\n",
    "ALTER: The ALTER statement is used to modify the structure of an existing database object,\n",
    "    such as adding, modifying, or deleting columns, constraints, or indexes. \n",
    "    TRUNCATE TABLE Employees;\n",
    "\n",
    "TRUNCATE: The TRUNCATE statement is used to delete all data from a table, but it keeps the table structure intact.\n",
    "    TRUNCATE TABLE Employees;\n"
   ]
  },
  {
   "cell_type": "markdown",
   "id": "3c9accb4",
   "metadata": {},
   "source": [
    "# Q3. \n",
    "### What is DML? Explain INSERT, UPDATE, and DELETE with an example."
   ]
  },
  {
   "cell_type": "code",
   "execution_count": null,
   "id": "d6fa3333",
   "metadata": {},
   "outputs": [],
   "source": [
    "DML stands for Data Manipulation Language. \n",
    "It is a subset of SQL (Structured Query Language) that is used to manipulate data within a database\n",
    "\n",
    "INSERT: The INSERT statement is used to add new rows or records into a table.\n",
    "    It specifies the table name and the values to be inserted into the corresponding columns.\n",
    "    INSERT INTO Employees (EmployeeID, FirstName, LastName, HireDate)\n",
    "VALUES (1, 'John', 'Doe', '2023-01-01');\n",
    "\n",
    "UPDATE: The UPDATE statement is used to modify existing data in a table.\n",
    "    It allows you to update specific columns or records based on specified conditions.\n",
    "    UPDATE Employees\n",
    "SET LastName = 'Smith'\n",
    "WHERE EmployeeID = 1;\n",
    "\n",
    "DELETE: The DELETE statement is used to remove specific rows or records from a table based on specified conditions.\n",
    "    DELETE FROM Employees\n",
    "WHERE EmployeeID = 1;\n",
    "\n"
   ]
  },
  {
   "cell_type": "markdown",
   "id": "6b6591ec",
   "metadata": {},
   "source": [
    "# Q4.\n",
    "### What is DQL? Explain SELECT with an example."
   ]
  },
  {
   "cell_type": "code",
   "execution_count": null,
   "id": "ad5de8ec",
   "metadata": {},
   "outputs": [],
   "source": [
    "DQL stands for Data Query Language. \n",
    "It is a subset of SQL (Structured Query Language) that is used to retrieve and query data from a database. \n",
    "DQL statements, specifically the SELECT statement, \n",
    "are used to retrieve data from one or more tables and return the desired results.\n",
    "\n",
    "SELECT FirstName, LastName, Salary\n",
    "FROM Employees\n",
    "WHERE Salary > 50000\n",
    "ORDER BY LastName ASC;\n"
   ]
  },
  {
   "cell_type": "markdown",
   "id": "a460b5f3",
   "metadata": {},
   "source": [
    "# Q5.\n",
    "### Explain Primary Key and Foreign Key."
   ]
  },
  {
   "cell_type": "code",
   "execution_count": null,
   "id": "fec3a212",
   "metadata": {},
   "outputs": [],
   "source": [
    "A primary key is a column or a set of columns in a table that uniquely identifies each row or record in that table. \n",
    "It serves as a unique identifier for the data and ensures data integrity. \n",
    "\n",
    "\n",
    "A foreign key establishes a relationship between two tables in a database.\n",
    "It is a column or a set of columns in one table that refers to the primary key of another table.\n",
    "The foreign key represents a link between the two tables and maintains referential integrity. "
   ]
  },
  {
   "cell_type": "markdown",
   "id": "ffdf1c5e",
   "metadata": {},
   "source": [
    "# Q6. \n",
    "### Write a python code to connect MySQL to python. Explain the cursor() and execute() method."
   ]
  },
  {
   "cell_type": "code",
   "execution_count": null,
   "id": "70d5d60a",
   "metadata": {},
   "outputs": [],
   "source": [
    "import mysql.connector\n",
    "\n",
    "# Establishing a connection to MySQL\n",
    "connection = mysql.connector.connect(\n",
    "    host=\"localhost\",\n",
    "    user=\"your_username\",\n",
    "    password=\"your_password\",\n",
    "    database=\"your_database\"\n",
    ")\n",
    "\n",
    "# Creating a cursor object\n",
    "cursor = connection.cursor()\n",
    "\n",
    "# Executing SQL queries\n",
    "cursor.execute(\"SELECT * FROM your_table\")\n",
    "\n",
    "# Fetching the results\n",
    "results = cursor.fetchall()\n",
    "\n",
    "# Processing the results\n",
    "for row in results:\n",
    "    print(row)\n",
    "\n",
    "# Closing the cursor and the connection\n",
    "cursor.close()\n",
    "connection.close()\n",
    "\n",
    "cursor(): The cursor() method is used to create a cursor object, which allows you to execute SQL statements and fetch results. \n",
    "    The cursor object acts as a pointer or a handle to the result set returned by a query. \n",
    "    It provides methods to execute SQL statements, fetch rows, and perform other database operations.\n",
    "\n",
    "In the code snippet, cursor = connection.cursor() creates a cursor object named cursor associated with the database connection.\n",
    "\n",
    "execute(): The execute() method is used to execute SQL statements or queries through the cursor object.\n",
    "    It takes the SQL query as its argument and executes it on the connected MySQL database. \n",
    "    The execution can include queries like SELECT, INSERT, UPDATE, DELETE, and more.\n",
    "\n",
    "In the code snippet, cursor.execute(\"SELECT * FROM your_table\") executes the SQL query \n",
    "\"SELECT * FROM your_table\" using the execute() method.\n"
   ]
  },
  {
   "cell_type": "markdown",
   "id": "b93997fe",
   "metadata": {},
   "source": [
    "# Q7. \n",
    "### Give the order of execution of SQL clauses in an SQL query."
   ]
  },
  {
   "cell_type": "code",
   "execution_count": null,
   "id": "c23f6e02",
   "metadata": {},
   "outputs": [],
   "source": [
    "The order of execution of SQL clauses in an SQL query generally follows the following sequence:\n",
    "\n",
    "FROM: Specifies the table(s) from which the data will be retrieved.\n",
    "WHERE: Filters the data based on specified conditions.\n",
    "GROUP BY: Groups the data based on specified columns.\n",
    "HAVING: Filters the grouped data based on specified conditions.\n",
    "SELECT: Retrieves the desired columns or expressions from the data.\n",
    "ORDER BY: Sorts the data based on specified columns or expressions.\n",
    "LIMIT/OFFSET: Limits the number of rows returned or skips a specified number of rows (depending on the database system)."
   ]
  },
  {
   "cell_type": "code",
   "execution_count": null,
   "id": "e9debbca",
   "metadata": {},
   "outputs": [],
   "source": []
  }
 ],
 "metadata": {
  "kernelspec": {
   "display_name": "Python 3 (ipykernel)",
   "language": "python",
   "name": "python3"
  },
  "language_info": {
   "codemirror_mode": {
    "name": "ipython",
    "version": 3
   },
   "file_extension": ".py",
   "mimetype": "text/x-python",
   "name": "python",
   "nbconvert_exporter": "python",
   "pygments_lexer": "ipython3",
   "version": "3.9.12"
  }
 },
 "nbformat": 4,
 "nbformat_minor": 5
}
