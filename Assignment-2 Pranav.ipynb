{
 "cells": [
  {
   "cell_type": "markdown",
   "id": "b9d21e93",
   "metadata": {},
   "source": [
    "# Q1.\n",
    "How do you comment code in Python? What are the different types of comments?"
   ]
  },
  {
   "cell_type": "code",
   "execution_count": 1,
   "id": "499db04a",
   "metadata": {},
   "outputs": [
    {
     "name": "stdout",
     "output_type": "stream",
     "text": [
      "Hello, World!\n"
     ]
    },
    {
     "data": {
      "text/plain": [
       "'\\nThis is a multi-line comment.\\nIt can span multiple lines.\\n'"
      ]
     },
     "execution_count": 1,
     "metadata": {},
     "output_type": "execute_result"
    }
   ],
   "source": [
    "# This is a single-line comment\n",
    "print(\"Hello, World!\")  # This line prints a greeting\n",
    "\n",
    "\"\"\"\n",
    "This is a multi-line comment.\n",
    "It can span multiple lines.\n",
    "\"\"\""
   ]
  },
  {
   "cell_type": "markdown",
   "id": "d7dca3b0",
   "metadata": {},
   "source": [
    "# Q2.\n",
    "What are variables in Python? How do you declare and assign values to variables?"
   ]
  },
  {
   "cell_type": "code",
   "execution_count": 2,
   "id": "8cb3dba0",
   "metadata": {},
   "outputs": [],
   "source": [
    "#In Python, variables are used to store and manipulate data.\n",
    "#A variable is a named location in memory where you can store a value.\n",
    "##In Python, variables are used to store and manipulate data.\n",
    "##A variable i#s a named location in memory where you can store a value.\n",
    "##Unlike some other programming languages, Python is dynamically typed,\n",
    "##which means you don't need to explicitly declare the type of a variable before using it.\n",
    "\n",
    "#To declare and assign values to variables in Python,\n",
    "#you simply choose a name for the variable and use the assignment operator (=) to assign a value to it. \n",
    "#Here's an example:\n",
    "\n",
    "\n",
    "# Variable declaration and assignment\n",
    "name = \"John\"\n",
    "age = 25\n",
    "salary = 5000.0\n",
    "is_employed = True\n",
    "\n",
    "#In the example above, four variables are declared (name, age, salary, and is_employed) and assigned different values. \n",
    "#The variable name is assigned a string value, age is assigned an integer value, salary is assigned a floating-point value,\n",
    "#and is_employed is assigned a Boolean value."
   ]
  },
  {
   "cell_type": "markdown",
   "id": "4dbd4094",
   "metadata": {},
   "source": [
    "# Q3.\n",
    "How do you convert one data type to another in Python?"
   ]
  },
  {
   "cell_type": "code",
   "execution_count": 3,
   "id": "dcc1fb7a",
   "metadata": {},
   "outputs": [],
   "source": [
    "x = int(3.14)  # x will be 3"
   ]
  },
  {
   "cell_type": "code",
   "execution_count": 4,
   "id": "c2303543",
   "metadata": {},
   "outputs": [],
   "source": [
    "y = float(\"3.14\")  # y will be 3.14"
   ]
  },
  {
   "cell_type": "code",
   "execution_count": 5,
   "id": "9a6270a1",
   "metadata": {},
   "outputs": [],
   "source": [
    "z = str(42)  # z will be \"42\""
   ]
  },
  {
   "cell_type": "code",
   "execution_count": 6,
   "id": "13769de0",
   "metadata": {},
   "outputs": [],
   "source": [
    "a = bool(1)  # a will be True\n",
    "b = bool(0)  # b will be False"
   ]
  },
  {
   "cell_type": "code",
   "execution_count": 7,
   "id": "f9e452e3",
   "metadata": {},
   "outputs": [],
   "source": [
    "my_list = [1, 2, 3, 2]\n",
    "my_set = set(my_list)  # my_set will be {1, 2, 3}"
   ]
  },
  {
   "cell_type": "markdown",
   "id": "93e2e054",
   "metadata": {},
   "source": [
    "# Q4. \n",
    "How do you write and execute a Python script from the command line?"
   ]
  },
  {
   "cell_type": "code",
   "execution_count": 8,
   "id": "de22c3ba",
   "metadata": {},
   "outputs": [
    {
     "ename": "SyntaxError",
     "evalue": "invalid syntax (4017840748.py, line 1)",
     "output_type": "error",
     "traceback": [
      "\u001b[1;36m  Input \u001b[1;32mIn [8]\u001b[1;36m\u001b[0m\n\u001b[1;33m    cd C:\\Users\\YourUsername\\Desktop\u001b[0m\n\u001b[1;37m       ^\u001b[0m\n\u001b[1;31mSyntaxError\u001b[0m\u001b[1;31m:\u001b[0m invalid syntax\n"
     ]
    }
   ],
   "source": [
    "cd C:\\Users\\YourUsername\\Desktop\n",
    "python hello.py\n",
    "Hello, world!"
   ]
  },
  {
   "cell_type": "markdown",
   "id": "494647a6",
   "metadata": {},
   "source": [
    "# Q5. \n",
    "Given a list my_list = [1, 2, 3, 4, 5], write the code to slice the list and obtain the sub-list [2, 3]."
   ]
  },
  {
   "cell_type": "code",
   "execution_count": 9,
   "id": "099e7dbc",
   "metadata": {},
   "outputs": [
    {
     "name": "stdout",
     "output_type": "stream",
     "text": [
      "[2, 3]\n"
     ]
    }
   ],
   "source": [
    "my_list = [1, 2, 3, 4, 5]\n",
    "sub_list = my_list[1:3]\n",
    "print(sub_list)"
   ]
  },
  {
   "cell_type": "markdown",
   "id": "0d23c96c",
   "metadata": {},
   "source": [
    "# Q6. \n",
    "What is a complex number in mathematics, and how is it represented in Python?"
   ]
  },
  {
   "cell_type": "code",
   "execution_count": 10,
   "id": "6ae254d7",
   "metadata": {},
   "outputs": [],
   "source": [
    "#In mathematics, a complex number is a number that can be expressed in the form a + bi, \n",
    "#where a and b are real numbers and i is the imaginary unit, defined as the square root of -1.\n",
    "#The real part of the complex number is a, and the imaginary part is b.\n",
    "\n",
    "z = complex(a, b)\n",
    "z = 2 + 3j\n"
   ]
  },
  {
   "cell_type": "code",
   "execution_count": 11,
   "id": "38608ee6",
   "metadata": {},
   "outputs": [
    {
     "name": "stdout",
     "output_type": "stream",
     "text": [
      "2.0\n",
      "3.0\n"
     ]
    }
   ],
   "source": [
    "print(z.real)  # Output: 2.0\n",
    "print(z.imag)  # Output: 3.0"
   ]
  },
  {
   "cell_type": "markdown",
   "id": "aab7d1c8",
   "metadata": {},
   "source": [
    "# Q7. \n",
    "What is the correct way to declare a variable named age and assign the value 25 to it?"
   ]
  },
  {
   "cell_type": "code",
   "execution_count": 12,
   "id": "806da219",
   "metadata": {},
   "outputs": [],
   "source": [
    "age = 25"
   ]
  },
  {
   "cell_type": "markdown",
   "id": "4eb16b1a",
   "metadata": {},
   "source": [
    "# Q8.\n",
    "\n",
    "Declare a variable named price and assign the value 9.99 to it. What data type does this variable\n",
    "belong to?"
   ]
  },
  {
   "cell_type": "code",
   "execution_count": 13,
   "id": "cc00d069",
   "metadata": {},
   "outputs": [],
   "source": [
    "price = 9.99"
   ]
  },
  {
   "cell_type": "code",
   "execution_count": 14,
   "id": "6d45b3f9",
   "metadata": {},
   "outputs": [
    {
     "data": {
      "text/plain": [
       "float"
      ]
     },
     "execution_count": 14,
     "metadata": {},
     "output_type": "execute_result"
    }
   ],
   "source": [
    "type(price)  # Therefore, the variable price belongs to the float data type"
   ]
  },
  {
   "cell_type": "markdown",
   "id": "f050312d",
   "metadata": {},
   "source": [
    "# Q9. \n",
    "Create a variable named name and assign your full name to it as a string. How would you print the\n",
    "value of this variable?"
   ]
  },
  {
   "cell_type": "code",
   "execution_count": 15,
   "id": "43bb20dc",
   "metadata": {},
   "outputs": [
    {
     "name": "stdout",
     "output_type": "stream",
     "text": [
      "Pranav Balyan\n"
     ]
    }
   ],
   "source": [
    "name = \"Pranav Balyan\"\n",
    "print(name)"
   ]
  },
  {
   "cell_type": "markdown",
   "id": "d3012eec",
   "metadata": {},
   "source": [
    "# Q10.\n",
    "Given the string \"Hello, World!\", extract the substring \"World\"."
   ]
  },
  {
   "cell_type": "code",
   "execution_count": 16,
   "id": "0a5f252a",
   "metadata": {},
   "outputs": [
    {
     "name": "stdout",
     "output_type": "stream",
     "text": [
      "World\n"
     ]
    }
   ],
   "source": [
    "string = \"Hello, World!\"\n",
    "substr = string[7:12]\n",
    "print(substr)"
   ]
  },
  {
   "cell_type": "markdown",
   "id": "dde4b0e5",
   "metadata": {},
   "source": [
    "# Q11.\n",
    "Create a variable named \"is_student\" and assign it a boolean value indicating whether you are\n",
    "currently a student or not."
   ]
  },
  {
   "cell_type": "code",
   "execution_count": 17,
   "id": "b63c6cde",
   "metadata": {},
   "outputs": [],
   "source": [
    "is_student = True"
   ]
  },
  {
   "cell_type": "code",
   "execution_count": 18,
   "id": "9e066ede",
   "metadata": {},
   "outputs": [
    {
     "data": {
      "text/plain": [
       "bool"
      ]
     },
     "execution_count": 18,
     "metadata": {},
     "output_type": "execute_result"
    }
   ],
   "source": [
    "type(is_student)"
   ]
  },
  {
   "cell_type": "code",
   "execution_count": null,
   "id": "657e71af",
   "metadata": {},
   "outputs": [],
   "source": []
  }
 ],
 "metadata": {
  "kernelspec": {
   "display_name": "Python 3 (ipykernel)",
   "language": "python",
   "name": "python3"
  },
  "language_info": {
   "codemirror_mode": {
    "name": "ipython",
    "version": 3
   },
   "file_extension": ".py",
   "mimetype": "text/x-python",
   "name": "python",
   "nbconvert_exporter": "python",
   "pygments_lexer": "ipython3",
   "version": "3.9.12"
  }
 },
 "nbformat": 4,
 "nbformat_minor": 5
}
