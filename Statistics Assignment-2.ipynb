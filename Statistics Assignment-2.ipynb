{
 "cells": [
  {
   "cell_type": "markdown",
   "id": "e24e2169",
   "metadata": {},
   "source": [
    "# Q1. \n",
    "### What are the three measures of central tendency?"
   ]
  },
  {
   "cell_type": "raw",
   "id": "5e042728",
   "metadata": {},
   "source": [
    "Mean: The mean, also known as the average, is calculated by adding up all the values in a dataset and dividing the sum by the number of values. It represents the balance point of the data. The formula for calculating the mean is:\n",
    "\n",
    "Mean = (Sum of all values) / (Number of values)\n",
    "\n",
    "Median: The median is the middle value in a dataset when the values are arranged in ascending or descending order. If there is an odd number of values, the median is the middle value itself. If there is an even number of values, the median is the average of the two middle values. The median represents the value that separates the lower half and the upper half of the data.\n",
    "\n",
    "Mode: The mode is the value or values that appear most frequently in a dataset. In other words, it is the value(s) that has the highest frequency. A dataset can have multiple modes (multimodal) or no mode (no value repeats). The mode represents the most common value(s) in the data."
   ]
  },
  {
   "cell_type": "markdown",
   "id": "579cb2d7",
   "metadata": {},
   "source": [
    "# Q2.\n",
    "### What is the difference between the mean, median, and mode? How are they used to measure the\n",
    "### central tendency of a dataset?"
   ]
  },
  {
   "cell_type": "raw",
   "id": "57abddc9",
   "metadata": {},
   "source": [
    "Mean:\n",
    "\n",
    "Definition: The mean is the average value of a dataset. It is calculated by summing up all the values in the dataset and dividing the sum by the number of values.\n",
    "Calculation: Mean = (Sum of all values) / (Number of values)\n",
    "Use: The mean is commonly used to describe the central tendency of a dataset when the values are numerical and evenly distributed. It provides an overall sense of the average value.\n",
    "Median:\n",
    "\n",
    "Definition: The median is the middle value in a dataset when the values are arranged in ascending or descending order.\n",
    "Calculation: If the dataset has an odd number of values, the median is the middle value itself. If the dataset has an even number of values, the median is the average of the two middle values.\n",
    "Use: The median is useful when the dataset contains outliers or extreme values that might skew the mean. It provides a more robust measure of central tendency that is not influenced by extreme values.\n",
    "Mode:\n",
    "\n",
    "Definition: The mode is the value or values that appear most frequently in a dataset.\n",
    "Calculation: The mode is determined by finding the value(s) with the highest frequency.\n",
    "Use: The mode is helpful when analyzing categorical or discrete data. It identifies the most common value(s) in the dataset, providing insights into the dominant category or characteristic."
   ]
  },
  {
   "cell_type": "markdown",
   "id": "98478ba1",
   "metadata": {},
   "source": [
    "# Q3. \n",
    "### Measure the three measures of central tendency for the given height data:\n",
    "### [178,177,176,177,178.2,178,175,179,180,175,178.9,176.2,177,172.5,178,176.5]"
   ]
  },
  {
   "cell_type": "raw",
   "id": "e0116378",
   "metadata": {},
   "source": [
    "Mean:\n",
    "Mean = (178 + 177 + 176 + 177 + 178.2 + 178 + 175 + 179 + 180 + 175 + 178.9 + 176.2 + 177 + 172.5 + 178 + 176.5) / 16\n",
    "= 2809.3 / 16\n",
    "≈ 175.58125\n",
    "\n",
    "So, the mean height is approximately 175.58125.\n",
    "\n",
    "Median:\n",
    "To find the median, we first need to arrange the data in ascending order:\n",
    "[172.5, 175, 175, 176, 176.2, 176.5, 177, 177, 178, 178, 178, 178.2, 178.9, 179, 180]\n",
    "\n",
    "As there are 16 values, the median will be the average of the two middle values:\n",
    "Median = (176 + 176.2) / 2\n",
    "= 352.2 / 2\n",
    "= 176.1\n",
    "\n",
    "So, the median height is 176.1.\n",
    "\n",
    "Mode:\n",
    "The mode is the value(s) that appear most frequently in the dataset. In this case, there is no value that repeats more than once. Therefore, the dataset has no mode.\n",
    "\n",
    "To summarize, for the given height data, the measures of central tendency are as follows:\n",
    "\n",
    "Mean: Approximately 175.58125\n",
    "Median: 176.1\n",
    "Mode: No mode"
   ]
  },
  {
   "cell_type": "markdown",
   "id": "c327c55e",
   "metadata": {},
   "source": [
    "# Q4. \n",
    "### Find the standard deviation for the given data:\n",
    "### [178,177,176,177,178.2,178,175,179,180,175,178.9,176.2,177,172.5,178,176.5]"
   ]
  },
  {
   "cell_type": "raw",
   "id": "912fbacf",
   "metadata": {},
   "source": [
    "Calculate the mean:\n",
    "Mean = (178 + 177 + 176 + 177 + 178.2 + 178 + 175 + 179 + 180 + 175 + 178.9 + 176.2 + 177 + 172.5 + 178 + 176.5) / 16\n",
    "= 2809.3 / 16\n",
    "≈ 175.58125\n",
    "\n",
    "Subtract the mean from each data point and square the result:\n",
    "[(178 - 175.58125)^2, (177 - 175.58125)^2, (176 - 175.58125)^2, (177 - 175.58125)^2, (178.2 - 175.58125)^2, (178 - 175.58125)^2, (175 - 175.58125)^2, (179 - 175.58125)^2, (180 - 175.58125)^2, (175 - 175.58125)^2, (178.9 - 175.58125)^2, (176.2 - 175.58125)^2, (177 - 175.58125)^2, (172.5 - 175.58125)^2, (178 - 175.58125)^2, (176.5 - 175.58125)^2]\n",
    "\n",
    "Calculate the sum of the squared differences obtained in step 2.\n",
    "\n",
    "Divide the sum by the number of data points (16 in this case).\n",
    "\n",
    "Take the square root of the result obtained in step 4.\n",
    "\n",
    "Here are the calculations:\n",
    "\n",
    "Sum of squared differences = (2.13200625^2 + 1.74925625^2 + 0.36650625^2 + 1.74925625^2 + 2.56781875^2 + 2.13200625^2 + 0.33281875^2 + 3.41844375^2 + 4.24144375^2 + 0.33281875^2 + 2.86494375^2 + 0.05644375^2 + 1.74925625^2 + 6.67494375^2 + 2.13200625^2 + 0.66944375^2)\n",
    "= 100.0771\n",
    "\n",
    "Standard deviation = sqrt(100.0771 / 16)\n",
    "≈ sqrt(6.25481875)\n",
    "≈ 2.50197085"
   ]
  },
  {
   "cell_type": "markdown",
   "id": "8504604f",
   "metadata": {},
   "source": [
    "# Q5. \n",
    "### How are measures of dispersion such as range, variance, and standard deviation used to describe\n",
    "### the spread of a dataset? Provide an example."
   ]
  },
  {
   "cell_type": "raw",
   "id": "dde24d2f",
   "metadata": {},
   "source": [
    "Range:\n",
    "\n",
    "Definition: The range is the simplest measure of dispersion, representing the difference between the largest and smallest values in a dataset.\n",
    "Calculation: Range = Largest value - Smallest value\n",
    "Use: The range gives a rough estimate of the spread of the dataset. However, it is sensitive to extreme values and does not consider the distribution of the data in between.\n",
    "Variance:\n",
    "\n",
    "Definition: Variance measures the average squared deviation of each data point from the mean. It quantifies the dispersion of data points around the mean.\n",
    "Calculation: Variance = Sum of squared differences from the mean / Number of data points\n",
    "Use: Variance provides a more precise measure of dispersion than the range. However, since it involves squared differences, the resulting value is not in the same units as the original data, making it harder to interpret.\n",
    "Standard Deviation:\n",
    "\n",
    "Definition: The standard deviation is the square root of the variance. It represents the average amount of deviation of data points from the mean.\n",
    "Calculation: Standard Deviation = Square root of the variance\n",
    "Use: The standard deviation is widely used as a measure of dispersion. It provides a meaningful measure in the same units as the original data, making it easier to interpret. A higher standard deviation indicates greater variability or spread of data points.\n",
    "Example:\n",
    "Consider a dataset representing the daily temperatures (in degrees Celsius) recorded over a week: [22, 25, 24, 23, 22, 26, 21]. We can use measures of dispersion to describe the spread of this dataset:\n",
    "\n",
    "Range: The largest value is 26, and the smallest value is 21. Therefore, the range is 26 - 21 = 5. This means that the temperature range over the week is 5 degrees Celsius.\n",
    "\n",
    "Variance: First, calculate the mean temperature: (22 + 25 + 24 + 23 + 22 + 26 + 21) / 7 = 163 / 7 ≈ 23.29. Then, calculate the squared differences from the mean for each temperature: [(22 - 23.29)^2, (25 - 23.29)^2, (24 - 23.29)^2, (23 - 23.29)^2, (22 - 23.29)^2, (26 - 23.29)^2, (21 - 23.29)^2]. Summing these squared differences and dividing by the number of data points (7) gives the variance.\n",
    "\n",
    "Standard Deviation: Take the square root of the variance calculated in the previous step to obtain the standard deviation."
   ]
  },
  {
   "cell_type": "markdown",
   "id": "fe279028",
   "metadata": {},
   "source": [
    "# Q6. \n",
    "### What is a Venn diagram?"
   ]
  },
  {
   "cell_type": "raw",
   "id": "cc3c4fc2",
   "metadata": {},
   "source": [
    "A Venn diagram is a visual representation that uses circles (or other shapes) to depict the relationships between different sets or groups of objects, elements, or concepts. It was introduced by John Venn, a British logician and philosopher, in the late 19th century. Venn diagrams provide a way to illustrate the overlap or commonalities between different sets and the unique elements within each set."
   ]
  },
  {
   "cell_type": "markdown",
   "id": "51d557c3",
   "metadata": {},
   "source": [
    "# Q7. \n",
    "### For the two given sets A = (2,3,4,5,6,7) & B = (0,2,6,8,10). Find:\n",
    "### (i) A B\n",
    "### (ii) A ⋃ B"
   ]
  },
  {
   "cell_type": "raw",
   "id": "eae1727e",
   "metadata": {},
   "source": [
    "(i) A ∩ B = {2, 6}\n",
    "(ii) A ⋃ B = {0, 2, 3, 4, 5, 6, 7, 8, 10}"
   ]
  },
  {
   "cell_type": "markdown",
   "id": "2cfced69",
   "metadata": {},
   "source": [
    "# Q8. \n",
    "### What do you understand about skewness in data?"
   ]
  },
  {
   "cell_type": "raw",
   "id": "7000d5d9",
   "metadata": {},
   "source": [
    "Skewness is a statistical measure that describes the asymmetry or lack of symmetry in the distribution of data. It helps to understand the shape and characteristics of a dataset. Skewness provides insights into the concentration or spread of values on either side of the central tendency.\n",
    "\n",
    "Skewness can have three possible outcomes:\n",
    "\n",
    "Positive Skewness (Right Skew):\n",
    "Positive skewness occurs when the tail of the distribution extends towards the right side. In other words, the majority of the data is concentrated on the left side, and the right side has a few extremely large values. The mean is typically greater than the median in positively skewed distributions.\n",
    "\n",
    "Negative Skewness (Left Skew):\n",
    "Negative skewness occurs when the tail of the distribution extends towards the left side. In this case, the majority of the data is concentrated on the right side, and the left side has a few extremely small values. The mean is typically less than the median in negatively skewed distributions.\n",
    "\n",
    "Zero Skewness:\n",
    "Zero skewness indicates a symmetrical distribution where the data is evenly distributed on both sides of the central tendency. The mean and median are approximately equal in a symmetrical distribution."
   ]
  },
  {
   "cell_type": "markdown",
   "id": "4350049c",
   "metadata": {},
   "source": [
    "# Q9. \n",
    "### If a data is right skewed then what will be the position of median with respect to mean?"
   ]
  },
  {
   "cell_type": "raw",
   "id": "04334088",
   "metadata": {},
   "source": [
    " in a right-skewed distribution, the median will typically be lower than the mean."
   ]
  },
  {
   "cell_type": "markdown",
   "id": "71f55d6f",
   "metadata": {},
   "source": [
    "# Q10.\n",
    "### Explain the difference between covariance and correlation. How are these measures used in\n",
    "### statistical analysis?"
   ]
  },
  {
   "cell_type": "raw",
   "id": "888dbc94",
   "metadata": {},
   "source": [
    "Covariance:\n",
    "Covariance measures the extent to which two variables vary together. It indicates the direction (positive or negative) and strength of the linear relationship between two variables. A positive covariance suggests that the variables tend to move in the same direction, while a negative covariance suggests an inverse relationship.\n",
    "\n",
    "The formula for covariance is:\n",
    "\n",
    "Cov(X, Y) = Σ[(Xᵢ - X̄)(Yᵢ - Ȳ)] / (n - 1)\n",
    "\n",
    "\n",
    "\n",
    "Correlation:\n",
    "Correlation, on the other hand, provides a standardized measure of the linear relationship between two variables. It quantifies the strength and direction of the relationship, regardless of the scale of the variables. The correlation coefficient, typically denoted by r, ranges from -1 to 1.\n",
    "\n",
    "The formula for correlation is:\n",
    "\n",
    "r = Cov(X, Y) / (σₓ * σᵧ)"
   ]
  },
  {
   "cell_type": "markdown",
   "id": "06852bd7",
   "metadata": {},
   "source": [
    "# Q11. \n",
    "### What is the formula for calculating the sample mean? Provide an example calculation for a\n",
    "### dataset."
   ]
  },
  {
   "cell_type": "raw",
   "id": "405060fb",
   "metadata": {},
   "source": [
    "x̄ = (x₁ + x₂ + x₃ + ... + xn) / n\n",
    "\n",
    "Where:\n",
    "\n",
    "x₁, x₂, x₃, ..., xn are the individual data points in the dataset.\n",
    "n is the total number of data points in the dataset.\n",
    "\n",
    "[10, 12, 14, 16, 18]\n",
    "\n",
    "To find the sample mean for this dataset, we sum up all the values and divide by the number of data points:\n",
    "\n",
    "x̄ = (10 + 12 + 14 + 16 + 18) / 5\n",
    "= 70 / 5\n",
    "= 14"
   ]
  },
  {
   "cell_type": "markdown",
   "id": "0576d52e",
   "metadata": {},
   "source": [
    "# Q12. \n",
    "### For a normal distribution data what is the relationship between its measure of central tendency?"
   ]
  },
  {
   "cell_type": "raw",
   "id": "13cae082",
   "metadata": {},
   "source": [
    "Mean:\n",
    "In a normal distribution, the mean is located at the center of the distribution. It is equal to the median and mode. The mean represents the balance point of the data, and it is the arithmetic average of all the values in the distribution.\n",
    "\n",
    "Median:\n",
    "The median of a normal distribution is also located at the center of the distribution. It is equal to the mean and mode. The median represents the value that separates the lower half and the upper half of the data.\n",
    "\n",
    "Mode:\n",
    "The mode of a normal distribution is located at the center, just like the mean and median. In a normal distribution, there can be multiple modes if the data has distinct peaks. However, in a perfectly symmetrical normal distribution, there is a single mode that coincides with the mean and median."
   ]
  },
  {
   "cell_type": "markdown",
   "id": "d31d1c60",
   "metadata": {},
   "source": [
    "# Q13. \n",
    "### How is covariance different from correlation?"
   ]
  },
  {
   "cell_type": "raw",
   "id": "5e783d6c",
   "metadata": {},
   "source": [
    "Scale Independence:\n",
    "\n",
    "Covariance: Covariance is not scale-independent. It is influenced by the scale of the variables, which makes it difficult to compare covariances across different datasets or variables with different units.\n",
    "Correlation: Correlation is scale-independent. It is a standardized measure that allows for meaningful comparison of the strength and direction of the relationship between variables, regardless of their scale or units.\n",
    "\n",
    "\n",
    "\n",
    "\n",
    "\n",
    "\n",
    "Range:\n",
    "\n",
    "Covariance: Covariance values can range from negative infinity to positive infinity.\n",
    "Correlation: Correlation coefficients always range between -1 and 1.\n",
    "\n",
    "\n",
    "\n",
    "\n",
    "\n",
    "\n",
    "Application and Usage:\n",
    "\n",
    "Covariance: Covariance is often used in finance and portfolio management to measure the relationship between different assets. It helps in understanding the joint variability and diversification benefits.\n",
    "Correlation: Correlation is widely used in various fields, including statistics, economics, social sciences, and data analysis. It helps in assessing relationships between variables, identifying patterns, making predictions, and selecting relevant variables for modeling and decision-making."
   ]
  },
  {
   "cell_type": "markdown",
   "id": "28c4523e",
   "metadata": {},
   "source": [
    "# Q14. \n",
    "### How do outliers affect measures of central tendency and dispersion? Provide an example."
   ]
  },
  {
   "cell_type": "raw",
   "id": "4617cf19",
   "metadata": {},
   "source": [
    "Mean: Outliers can heavily influence the mean because it is sensitive to extreme values. If there are outliers with values significantly higher or lower than the majority of the data, the mean can be pulled towards those extreme values, resulting in a distorted representation of the central tendency.\n",
    "\n",
    "Median: The median is less affected by outliers compared to the mean. Since the median represents the middle value when the data is sorted, outliers have less impact on its value. However, if there are outliers, they can still cause a shift in the position of the median, depending on their values and relative positions within the dataset.\n",
    "\n",
    "Mode: The mode, which represents the most frequently occurring value(s) in the dataset, is generally less affected by outliers. Outliers are usually rare values that do not influence the mode unless they occur multiple times and form a new mode.\n",
    "\n",
    "Measures of Dispersion:\n",
    "\n",
    "Range: Outliers can significantly impact the range because it is calculated as the difference between the maximum and minimum values. If there are extreme outliers, the range will increase to accommodate those values, providing an exaggerated measure of the spread.\n",
    "\n",
    "Variance and Standard Deviation: Outliers can have a substantial effect on the variance and standard deviation because they involve squared differences from the mean. Outliers with large deviations from the mean will increase the sum of squared differences, resulting in inflated values for variance and standard deviation.\n",
    "\n",
    "Example:\n",
    "Consider a dataset of salaries in a company: [25,000, 35,000, 40,000, 42,000, 50,000, 55,000, 200,000]. The outlier value of 200,000 is significantly higher than the other values. Let's see how outliers affect the measures of central tendency and dispersion:\n",
    "\n",
    "Mean: The mean is heavily influenced by the outlier. Without the outlier, the mean would be around 42,857. With the outlier, the mean becomes 63,571, significantly higher than the values in the dataset.\n",
    "\n",
    "Median: The median is less affected by outliers. In this case, the median remains at 42,000, as it represents the middle value regardless of the outlier.\n",
    "\n",
    "Range: The range is greatly impacted by the outlier. Without the outlier, the range would be 30,000 (55,000 - 25,000). However, with the outlier, the range increases to 175,000 (200,000 - 25,000).\n",
    "\n",
    "Variance and Standard Deviation: The presence of the outlier will increase the variance and standard deviation because the squared differences from the mean will be larger. This will result in inflated values for these measures, indicating greater variability in the dataset."
   ]
  },
  {
   "cell_type": "code",
   "execution_count": null,
   "id": "b57691a3",
   "metadata": {},
   "outputs": [],
   "source": []
  }
 ],
 "metadata": {
  "kernelspec": {
   "display_name": "Python 3 (ipykernel)",
   "language": "python",
   "name": "python3"
  },
  "language_info": {
   "codemirror_mode": {
    "name": "ipython",
    "version": 3
   },
   "file_extension": ".py",
   "mimetype": "text/x-python",
   "name": "python",
   "nbconvert_exporter": "python",
   "pygments_lexer": "ipython3",
   "version": "3.9.12"
  }
 },
 "nbformat": 4,
 "nbformat_minor": 5
}
