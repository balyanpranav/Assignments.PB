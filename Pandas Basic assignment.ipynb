{
 "cells": [
  {
   "cell_type": "markdown",
   "id": "6fc7fabb",
   "metadata": {},
   "source": [
    "# Q1. \n",
    "Create a Pandas Series that contains the following data: 4, 8, 15, 16, 23, and 42. Then, print the series."
   ]
  },
  {
   "cell_type": "code",
   "execution_count": 1,
   "id": "a90d39a7",
   "metadata": {},
   "outputs": [
    {
     "name": "stdout",
     "output_type": "stream",
     "text": [
      "0     4\n",
      "1     8\n",
      "2    15\n",
      "3    16\n",
      "4    23\n",
      "5    42\n",
      "dtype: int64\n"
     ]
    }
   ],
   "source": [
    "import pandas as pd\n",
    "\n",
    "data = [4, 8, 15, 16, 23, 42]\n",
    "series = pd.Series(data)\n",
    "\n",
    "print(series)\n"
   ]
  },
  {
   "cell_type": "markdown",
   "id": "b02267c0",
   "metadata": {},
   "source": [
    "# Q2. \n",
    "Create a variable of list type containing 10 elements in it, and apply pandas.Series function on the\n",
    "variable print it."
   ]
  },
  {
   "cell_type": "code",
   "execution_count": 2,
   "id": "ec017a92",
   "metadata": {},
   "outputs": [
    {
     "name": "stdout",
     "output_type": "stream",
     "text": [
      "0     1\n",
      "1     2\n",
      "2     3\n",
      "3     4\n",
      "4     5\n",
      "5     6\n",
      "6     7\n",
      "7     8\n",
      "8     9\n",
      "9    10\n",
      "dtype: int64\n"
     ]
    }
   ],
   "source": [
    "import pandas as pd\n",
    "\n",
    "my_list = [1, 2, 3, 4, 5, 6, 7, 8, 9, 10]\n",
    "series = pd.Series(my_list)\n",
    "\n",
    "print(series)\n"
   ]
  },
  {
   "cell_type": "markdown",
   "id": "053d21e8",
   "metadata": {},
   "source": [
    "# Q3.\n",
    "Create a Pandas DataFrame that contains the following data:\n",
    "\n",
    "Then, print the DataFrame."
   ]
  },
  {
   "cell_type": "code",
   "execution_count": 3,
   "id": "b3dada2f",
   "metadata": {},
   "outputs": [
    {
     "name": "stdout",
     "output_type": "stream",
     "text": [
      "     Name  Age  Gender\n",
      "0   Alice   25  Female\n",
      "1     Bob   30    Male\n",
      "2  Claire   27  Female\n"
     ]
    }
   ],
   "source": [
    "import pandas as pd\n",
    "\n",
    "data = {\n",
    "    'Name': ['Alice', 'Bob', 'Claire'],\n",
    "    'Age': [25, 30, 27],\n",
    "    'Gender': ['Female', 'Male', 'Female']\n",
    "}\n",
    "\n",
    "df = pd.DataFrame(data)\n",
    "\n",
    "print(df)\n"
   ]
  },
  {
   "cell_type": "markdown",
   "id": "55cf922e",
   "metadata": {},
   "source": [
    "# Q4.\n",
    "What is ‘DataFrame’ in pandas and how is it different from pandas.series? Explain with an example."
   ]
  },
  {
   "cell_type": "code",
   "execution_count": 4,
   "id": "4e68121e",
   "metadata": {},
   "outputs": [
    {
     "name": "stdout",
     "output_type": "stream",
     "text": [
      "DataFrame:\n",
      "     Name  Age  Gender\n",
      "0   Alice   25  Female\n",
      "1     Bob   30    Male\n",
      "2  Claire   27  Female\n",
      "\n",
      "Series:\n",
      "0    25\n",
      "1    30\n",
      "2    27\n",
      "Name: Age, dtype: int64\n"
     ]
    }
   ],
   "source": [
    "import pandas as pd\n",
    "\n",
    "# Creating a DataFrame\n",
    "data = {\n",
    "    'Name': ['Alice', 'Bob', 'Claire'],\n",
    "    'Age': [25, 30, 27],\n",
    "    'Gender': ['Female', 'Male', 'Female']\n",
    "}\n",
    "df = pd.DataFrame(data)\n",
    "\n",
    "# Creating a Series\n",
    "ages = pd.Series([25, 30, 27], name='Age')\n",
    "\n",
    "print(\"DataFrame:\")\n",
    "print(df)\n",
    "print(\"\\nSeries:\")\n",
    "print(ages)\n"
   ]
  },
  {
   "cell_type": "markdown",
   "id": "26a2c420",
   "metadata": {},
   "source": [
    "# Q5.\n",
    "### What are some common functions you can use to manipulate data in a Pandas DataFrame? Can\n",
    "### you give an example of when you might use one of these functions?"
   ]
  },
  {
   "cell_type": "markdown",
   "id": "9583c777",
   "metadata": {},
   "source": [
    "head() and tail(): These functions allow you to retrieve the first few rows (head()) or the last few rows (tail()) of the DataFrame. They are useful for quickly inspecting the data.\n",
    "\n",
    "info(): This function provides a summary of the DataFrame, including the column names, data types, and the number of non-null values. It helps in understanding the structure and composition of the data.\n",
    "\n",
    "describe(): This function generates descriptive statistics of the numerical columns in the DataFrame, such as count, mean, standard deviation, minimum, maximum, and quartiles. It provides a summary of the central tendency, dispersion, and shape of the distribution.\n",
    "\n",
    "shape and size: The shape attribute returns a tuple representing the dimensions of the DataFrame (number of rows, number of columns), while the size attribute returns the total number of elements in the DataFrame. These attributes help in understanding the size and structure of the DataFrame.\n",
    "\n",
    "unique() and value_counts(): The unique() function returns an array of unique values present in a column, while value_counts() provides the count of each unique value. These functions are useful for exploring categorical or discrete variables in the DataFrame.\n",
    "\n",
    "sort_values(): This function is used to sort the DataFrame based on one or more columns. It can be used to sort the data in ascending or descending order, allowing for various sorting requirements.\n",
    "\n",
    "groupby() and agg(): The groupby() function is used for grouping data based on one or more columns, allowing for aggregations and summary statistics. The agg() function is commonly used with groupby() to compute specific aggregations on grouped data, such as sum, mean, max, min, etc.\n",
    "\n",
    "drop() and dropna(): The drop() function is used to remove rows or columns from the DataFrame based on specified labels or indices. The dropna() function is used to drop rows or columns that contain missing or NaN (null) values.\n",
    "\n",
    "apply(): This function is used to apply a custom function or operation to each element, row, or column of the DataFrame. It allows for custom data transformations and calculations.\n",
    "\n",
    "merge() and join(): These functions are used to combine multiple DataFrames based on common columns or indices. They are helpful for joining data from different sources or merging datasets with similar keys"
   ]
  },
  {
   "cell_type": "markdown",
   "id": "24ebefca",
   "metadata": {},
   "source": [
    "# Q6. \n",
    "### Which of the following is mutable in nature Series, DataFrame, Panel?"
   ]
  },
  {
   "cell_type": "markdown",
   "id": "fc818b62",
   "metadata": {},
   "source": [
    "The DataFrame is mutable, while the Series is immutable. The Panel, although mutable, is no longer the recommended choice for handling three-dimensional data."
   ]
  },
  {
   "cell_type": "markdown",
   "id": "9aaf4a03",
   "metadata": {},
   "source": [
    "# Q7. \n",
    "Create a DataFrame using multiple Series. Explain with an example."
   ]
  },
  {
   "cell_type": "code",
   "execution_count": 5,
   "id": "1235910c",
   "metadata": {},
   "outputs": [
    {
     "name": "stdout",
     "output_type": "stream",
     "text": [
      "     Name  Age  Gender\n",
      "0   Alice   25  Female\n",
      "1     Bob   30    Male\n",
      "2  Claire   27  Female\n"
     ]
    }
   ],
   "source": [
    "import pandas as pd\n",
    "\n",
    "# Create individual Series\n",
    "name_series = pd.Series(['Alice', 'Bob', 'Claire'])\n",
    "age_series = pd.Series([25, 30, 27])\n",
    "gender_series = pd.Series(['Female', 'Male', 'Female'])\n",
    "\n",
    "# Create DataFrame using the Series\n",
    "data = {\n",
    "    'Name': name_series,\n",
    "    'Age': age_series,\n",
    "    'Gender': gender_series\n",
    "}\n",
    "df = pd.DataFrame(data)\n",
    "\n",
    "# Print the DataFrame\n",
    "print(df)\n"
   ]
  },
  {
   "cell_type": "code",
   "execution_count": null,
   "id": "93ec9a86",
   "metadata": {},
   "outputs": [],
   "source": []
  }
 ],
 "metadata": {
  "kernelspec": {
   "display_name": "Python 3 (ipykernel)",
   "language": "python",
   "name": "python3"
  },
  "language_info": {
   "codemirror_mode": {
    "name": "ipython",
    "version": 3
   },
   "file_extension": ".py",
   "mimetype": "text/x-python",
   "name": "python",
   "nbconvert_exporter": "python",
   "pygments_lexer": "ipython3",
   "version": "3.9.12"
  }
 },
 "nbformat": 4,
 "nbformat_minor": 5
}
