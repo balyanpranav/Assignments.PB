{
 "cells": [
  {
   "cell_type": "markdown",
   "id": "bf17471a",
   "metadata": {},
   "source": [
    "# Q1. \n",
    "### What is MongoDB? Explain non-relational databases in short. In which scenarios it is preferred to use\n",
    "### MongoDB over SQL databases?"
   ]
  },
  {
   "cell_type": "markdown",
   "id": "0148bf4e",
   "metadata": {},
   "source": [
    "MongoDB is a popular open-source, document-oriented NoSQL database. It provides a flexible and scalable approach to storing and retrieving data. Non-relational databases, like MongoDB, differ from traditional relational databases (SQL) in how they organize and manage data.\n",
    "\n",
    "Non-relational databases, also known as NoSQL databases, are designed to handle large volumes of unstructured or semi-structured data. Unlike SQL databases, they do not use tables with fixed schemas and predefined relationships. Instead, NoSQL databases store data in flexible formats such as documents, key-value pairs, graphs, or columnar structures.\n",
    "\n",
    "Here are a few scenarios where MongoDB is often preferred:\n",
    "\n",
    "Flexible Schema: If your application deals with rapidly changing or unpredictable data structures, MongoDB's flexible schema can be advantageous. It allows you to store and retrieve data without the need for strict schema definitions.\n",
    "\n",
    "Scalability and Performance: MongoDB's distributed architecture makes it well-suited for scaling horizontally across multiple servers. It can handle high volumes of reads and writes efficiently, making it a good choice for applications with high scalability and performance demands.\n",
    "\n",
    "Big Data and Real-time Analytics: MongoDB's document-oriented model can handle large amounts of unstructured or semi-structured data, making it a viable option for big data applications. It also supports real-time analytics with its aggregation framework and provides powerful indexing capabilities."
   ]
  },
  {
   "cell_type": "markdown",
   "id": "c994cd76",
   "metadata": {},
   "source": [
    "# Q2. \n",
    "### State and Explain the features of MongoDB."
   ]
  },
  {
   "cell_type": "markdown",
   "id": "3f6ce63f",
   "metadata": {},
   "source": [
    "Document-Oriented: MongoDB stores data in flexible, JSON-like documents called BSON. These documents can have varying structures and can nest sub-documents and arrays, allowing for rich data models and easy representation of complex relationships.\n",
    "\n",
    "Flexible Schema: MongoDB's schema is dynamic, meaning documents in a collection do not have to follow a predefined structure. This flexibility allows for easy modification of the data model as application requirements evolve.\n",
    "\n",
    "Scalability: MongoDB is designed to scale horizontally across multiple servers, allowing it to handle high traffic and large datasets. It supports automatic sharding, which distributes data across multiple machines, enabling efficient load balancing and improved performance.\n",
    "\n",
    "High Performance: MongoDB utilizes memory-mapped storage and other optimizations to deliver high-performance read and write operations. It also supports indexing, including compound indexes and geospatial indexes, to speed up data retrieval."
   ]
  },
  {
   "cell_type": "markdown",
   "id": "dc998135",
   "metadata": {},
   "source": [
    "# Q3. \n",
    "### Write a code to connect MongoDB to Python. Also, create a database and a collection in MongoDB."
   ]
  },
  {
   "cell_type": "code",
   "execution_count": null,
   "id": "4927ed6d",
   "metadata": {},
   "outputs": [],
   "source": [
    "import pymongo\n",
    "\n",
    "# Establish a connection to MongoDB\n",
    "client = pymongo.MongoClient(\"mongodb://localhost:27017\")\n",
    "\n",
    "# Create a database\n",
    "database = client[\"mydatabase\"]\n",
    "\n",
    "# Create a collection\n",
    "collection = database[\"mycollection\"]\n"
   ]
  },
  {
   "cell_type": "markdown",
   "id": "94520c7b",
   "metadata": {},
   "source": [
    "# Q4. \n",
    "### Using the database and the collection created in question number 3, write a code to insert one record,\n",
    "### and insert many records. Use the find() and find_one() methods to print the inserted record."
   ]
  },
  {
   "cell_type": "code",
   "execution_count": null,
   "id": "3fe0ecec",
   "metadata": {},
   "outputs": [],
   "source": [
    "# Insert one record\n",
    "record = {\"name\": \"John\", \"age\": 30}\n",
    "result = collection.insert_one(record)\n",
    "print(\"Inserted record ID:\", result.inserted_id)\n",
    "\n",
    "# Insert many records\n",
    "records = [\n",
    "    {\"name\": \"Alice\", \"age\": 25},\n",
    "    {\"name\": \"Bob\", \"age\": 35},\n",
    "    {\"name\": \"Charlie\", \"age\": 28}\n",
    "]\n",
    "result = collection.insert_many(records)\n",
    "print(\"Inserted record IDs:\", result.inserted_ids)\n",
    "\n",
    "# Find and print the inserted record\n",
    "inserted_record = collection.find_one({\"name\": \"John\"})\n",
    "print(\"Inserted record:\")\n",
    "print(inserted_record)\n",
    "\n",
    "# Find and print all inserted records\n",
    "all_records = collection.find()\n",
    "print(\"All inserted records:\")\n",
    "for record in all_records:\n",
    "    print(record)"
   ]
  },
  {
   "cell_type": "markdown",
   "id": "a815430a",
   "metadata": {},
   "source": [
    "# Q5. \n",
    "### Explain how you can use the find() method to query the MongoDB database. Write a simple code to\n",
    "### demonstrate this."
   ]
  },
  {
   "cell_type": "code",
   "execution_count": null,
   "id": "16ba37f1",
   "metadata": {},
   "outputs": [],
   "source": [
    "import pymongo\n",
    "\n",
    "# Establish a connection to MongoDB\n",
    "client = pymongo.MongoClient(\"mongodb://localhost:27017\")\n",
    "\n",
    "# Create a database\n",
    "database = client[\"mydatabase\"]\n",
    "\n",
    "# Create a collection\n",
    "collection = database[\"mycollection\"]\n",
    "\n",
    "# Insert some example records (if not already inserted)\n",
    "collection.insert_many([\n",
    "    {\"name\": \"John\", \"age\": 30, \"city\": \"New York\"},\n",
    "    {\"name\": \"Alice\", \"age\": 25, \"city\": \"London\"},\n",
    "    {\"name\": \"Bob\", \"age\": 35, \"city\": \"Paris\"},\n",
    "    {\"name\": \"Charlie\", \"age\": 28, \"city\": \"Berlin\"}\n",
    "])\n",
    "\n",
    "# Query the collection using the find() method\n",
    "query = {\"age\": {\"$gte\": 30}}  # Retrieve documents where age is greater than or equal to 30\n",
    "results = collection.find(query)\n",
    "\n",
    "# Print the retrieved documents\n",
    "print(\"Matching documents:\")\n",
    "for document in results:\n",
    "    print(document)\n"
   ]
  },
  {
   "cell_type": "markdown",
   "id": "b4c51bee",
   "metadata": {},
   "source": [
    "# Q6. \n",
    "### Explain the sort() method. Give an example to demonstrate sorting in MongoDB."
   ]
  },
  {
   "cell_type": "code",
   "execution_count": null,
   "id": "7d600879",
   "metadata": {},
   "outputs": [],
   "source": [
    "The sort() method in MongoDB is used to sort the documents in a collection based on one or more fields.\n",
    "It allows you to specify the sorting order, such as ascending or descending, for each field.\n",
    "\n",
    "import pymongo\n",
    "\n",
    "# Establish a connection to MongoDB\n",
    "client = pymongo.MongoClient(\"mongodb://localhost:27017\")\n",
    "\n",
    "# Create a database\n",
    "database = client[\"mydatabase\"]\n",
    "\n",
    "# Create a collection\n",
    "collection = database[\"mycollection\"]\n",
    "\n",
    "# Insert some example records (if not already inserted)\n",
    "collection.insert_many([\n",
    "    {\"name\": \"John\", \"age\": 30, \"city\": \"New York\"},\n",
    "    {\"name\": \"Alice\", \"age\": 25, \"city\": \"London\"},\n",
    "    {\"name\": \"Bob\", \"age\": 35, \"city\": \"Paris\"},\n",
    "    {\"name\": \"Charlie\", \"age\": 28, \"city\": \"Berlin\"}\n",
    "])\n",
    "\n",
    "# Sort the collection based on the \"age\" field in ascending order\n",
    "results = collection.find().sort(\"age\", 1)\n",
    "\n",
    "# Print the sorted documents\n",
    "print(\"Sorted documents (ascending order of age):\")\n",
    "for document in results:\n",
    "    print(document)\n",
    "\n",
    "# Sort the collection based on the \"name\" field in descending order\n",
    "results = collection.find().sort(\"name\", -1)\n",
    "\n",
    "# Print the sorted documents\n",
    "print(\"Sorted documents (descending order of name):\")\n",
    "for document in results:\n",
    "    print(document)\n"
   ]
  },
  {
   "cell_type": "markdown",
   "id": "02d2d32f",
   "metadata": {},
   "source": [
    "# Q7. \n",
    "### Explain why delete_one(), delete_many(), and drop() is used."
   ]
  },
  {
   "cell_type": "code",
   "execution_count": null,
   "id": "bfab7317",
   "metadata": {},
   "outputs": [],
   "source": [
    "delete_one():\n",
    "\n",
    "This method is used to delete a single document that matches a specified filter.\n",
    "If multiple documents match the filter, only the first one encountered is deleted.\n",
    "It returns a DeleteResult object that provides information about the deletion, such as the number of documents deleted.\n",
    "\n",
    "\n",
    "\n",
    "delete_many():\n",
    "\n",
    "This method is used to delete multiple documents that match a specified filter.\n",
    "It deletes all documents that match the filter and not just the first one encountered.\n",
    "It returns a DeleteResult object that provides information about the deletion, such as the number of documents deleted.\n",
    "\n",
    "\n",
    "\n",
    "drop():\n",
    "\n",
    "This method is used to completely remove a collection from a database, including all of its documents and indexes.\n",
    "Once a collection is dropped, it cannot be recovered, so use this method with caution.\n",
    "It does not return any value or object."
   ]
  }
 ],
 "metadata": {
  "kernelspec": {
   "display_name": "Python 3 (ipykernel)",
   "language": "python",
   "name": "python3"
  },
  "language_info": {
   "codemirror_mode": {
    "name": "ipython",
    "version": 3
   },
   "file_extension": ".py",
   "mimetype": "text/x-python",
   "name": "python",
   "nbconvert_exporter": "python",
   "pygments_lexer": "ipython3",
   "version": "3.9.12"
  }
 },
 "nbformat": 4,
 "nbformat_minor": 5
}
